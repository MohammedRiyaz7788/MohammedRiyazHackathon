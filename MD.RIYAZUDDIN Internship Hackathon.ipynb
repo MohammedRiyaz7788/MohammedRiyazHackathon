{
 "cells": [
  {
   "cell_type": "code",
   "execution_count": 1,
   "id": "e9308fca",
   "metadata": {},
   "outputs": [],
   "source": [
    "## import the Required Librarys"
   ]
  },
  {
   "cell_type": "code",
   "execution_count": 2,
   "id": "58c12d48",
   "metadata": {},
   "outputs": [],
   "source": [
    "import pandas as pd"
   ]
  },
  {
   "cell_type": "code",
   "execution_count": 3,
   "id": "9a0695c4",
   "metadata": {},
   "outputs": [],
   "source": [
    "## import the dataset and assigning to the variable data"
   ]
  },
  {
   "cell_type": "code",
   "execution_count": 4,
   "id": "482b9014",
   "metadata": {},
   "outputs": [
    {
     "data": {
      "text/html": [
       "<div>\n",
       "<style scoped>\n",
       "    .dataframe tbody tr th:only-of-type {\n",
       "        vertical-align: middle;\n",
       "    }\n",
       "\n",
       "    .dataframe tbody tr th {\n",
       "        vertical-align: top;\n",
       "    }\n",
       "\n",
       "    .dataframe thead th {\n",
       "        text-align: right;\n",
       "    }\n",
       "</style>\n",
       "<table border=\"1\" class=\"dataframe\">\n",
       "  <thead>\n",
       "    <tr style=\"text-align: right;\">\n",
       "      <th></th>\n",
       "      <th>input</th>\n",
       "      <th>output</th>\n",
       "    </tr>\n",
       "  </thead>\n",
       "  <tbody>\n",
       "    <tr>\n",
       "      <th>0</th>\n",
       "      <td>-122.740667</td>\n",
       "      <td>-130.572085</td>\n",
       "    </tr>\n",
       "    <tr>\n",
       "      <th>1</th>\n",
       "      <td>-121.531419</td>\n",
       "      <td>-129.938929</td>\n",
       "    </tr>\n",
       "    <tr>\n",
       "      <th>2</th>\n",
       "      <td>-134.917019</td>\n",
       "      <td>-130.141832</td>\n",
       "    </tr>\n",
       "    <tr>\n",
       "      <th>3</th>\n",
       "      <td>-120.605951</td>\n",
       "      <td>-125.760932</td>\n",
       "    </tr>\n",
       "    <tr>\n",
       "      <th>4</th>\n",
       "      <td>-129.894781</td>\n",
       "      <td>-112.785214</td>\n",
       "    </tr>\n",
       "    <tr>\n",
       "      <th>...</th>\n",
       "      <td>...</td>\n",
       "      <td>...</td>\n",
       "    </tr>\n",
       "    <tr>\n",
       "      <th>1692</th>\n",
       "      <td>25.410184</td>\n",
       "      <td>-76.380902</td>\n",
       "    </tr>\n",
       "    <tr>\n",
       "      <th>1693</th>\n",
       "      <td>29.537304</td>\n",
       "      <td>-82.796934</td>\n",
       "    </tr>\n",
       "    <tr>\n",
       "      <th>1694</th>\n",
       "      <td>31.633331</td>\n",
       "      <td>-87.000000</td>\n",
       "    </tr>\n",
       "    <tr>\n",
       "      <th>1695</th>\n",
       "      <td>29.091458</td>\n",
       "      <td>-104.943052</td>\n",
       "    </tr>\n",
       "    <tr>\n",
       "      <th>1696</th>\n",
       "      <td>17.145296</td>\n",
       "      <td>-101.726894</td>\n",
       "    </tr>\n",
       "  </tbody>\n",
       "</table>\n",
       "<p>1697 rows × 2 columns</p>\n",
       "</div>"
      ],
      "text/plain": [
       "           input      output\n",
       "0    -122.740667 -130.572085\n",
       "1    -121.531419 -129.938929\n",
       "2    -134.917019 -130.141832\n",
       "3    -120.605951 -125.760932\n",
       "4    -129.894781 -112.785214\n",
       "...          ...         ...\n",
       "1692   25.410184  -76.380902\n",
       "1693   29.537304  -82.796934\n",
       "1694   31.633331  -87.000000\n",
       "1695   29.091458 -104.943052\n",
       "1696   17.145296 -101.726894\n",
       "\n",
       "[1697 rows x 2 columns]"
      ]
     },
     "execution_count": 4,
     "metadata": {},
     "output_type": "execute_result"
    }
   ],
   "source": [
    "data=pd.read_csv(r\"C:\\Users\\MOHAMMED RAYAZ\\Downloads\\dataframe_.csv\")\n",
    "data"
   ]
  },
  {
   "cell_type": "code",
   "execution_count": null,
   "id": "ef602623",
   "metadata": {},
   "outputs": [],
   "source": [
    "##shape of the dataset"
   ]
  },
  {
   "cell_type": "code",
   "execution_count": 5,
   "id": "4a89608f",
   "metadata": {},
   "outputs": [
    {
     "data": {
      "text/plain": [
       "(1697, 2)"
      ]
     },
     "execution_count": 5,
     "metadata": {},
     "output_type": "execute_result"
    }
   ],
   "source": [
    "data.shape"
   ]
  },
  {
   "cell_type": "code",
   "execution_count": null,
   "id": "774d665a",
   "metadata": {},
   "outputs": [],
   "source": [
    "## info of the data"
   ]
  },
  {
   "cell_type": "code",
   "execution_count": 75,
   "id": "bf7399ec",
   "metadata": {},
   "outputs": [
    {
     "name": "stdout",
     "output_type": "stream",
     "text": [
      "<class 'pandas.core.frame.DataFrame'>\n",
      "RangeIndex: 1697 entries, 0 to 1696\n",
      "Data columns (total 2 columns):\n",
      " #   Column  Non-Null Count  Dtype  \n",
      "---  ------  --------------  -----  \n",
      " 0   input   1696 non-null   float64\n",
      " 1   output  1696 non-null   float64\n",
      "dtypes: float64(2)\n",
      "memory usage: 26.6 KB\n"
     ]
    }
   ],
   "source": [
    "data.info()"
   ]
  },
  {
   "cell_type": "code",
   "execution_count": null,
   "id": "4ac51fae",
   "metadata": {},
   "outputs": [],
   "source": [
    "## isnull values"
   ]
  },
  {
   "cell_type": "code",
   "execution_count": 7,
   "id": "468613e2",
   "metadata": {},
   "outputs": [
    {
     "data": {
      "text/plain": [
       "input     1\n",
       "output    1\n",
       "dtype: int64"
      ]
     },
     "execution_count": 7,
     "metadata": {},
     "output_type": "execute_result"
    }
   ],
   "source": [
    "data.isnull().sum()"
   ]
  },
  {
   "cell_type": "code",
   "execution_count": 8,
   "id": "446761ec",
   "metadata": {},
   "outputs": [],
   "source": [
    "## The shape of the given dataset is 1697 rows and 2 columns,we are having 1 nan in each"
   ]
  },
  {
   "cell_type": "code",
   "execution_count": 9,
   "id": "ca526cf3",
   "metadata": {},
   "outputs": [],
   "source": [
    "import numpy as np\n",
    "import matplotlib.pyplot as plt\n",
    "import seaborn as sns\n",
    "import warnings\n",
    "warnings.filterwarnings('ignore')"
   ]
  },
  {
   "cell_type": "code",
   "execution_count": null,
   "id": "806631f7",
   "metadata": {},
   "outputs": [],
   "source": [
    "## Distplot"
   ]
  },
  {
   "cell_type": "code",
   "execution_count": 10,
   "id": "6945e564",
   "metadata": {},
   "outputs": [
    {
     "data": {
      "text/plain": [
       "<AxesSubplot:ylabel='Density'>"
      ]
     },
     "execution_count": 10,
     "metadata": {},
     "output_type": "execute_result"
    },
    {
     "data": {
      "image/png": "[encoded data removed]",
      "text/plain": [
       "<Figure size 432x288 with 1 Axes>"
      ]
     },
     "metadata": {
      "needs_background": "light"
     },
     "output_type": "display_data"
    }
   ],
   "source": [
    "sns.distplot(data[['input']])"
   ]
  },
  {
   "cell_type": "code",
   "execution_count": null,
   "id": "ab600827",
   "metadata": {},
   "outputs": [],
   "source": [
    "## plotting the distplot"
   ]
  },
  {
   "cell_type": "code",
   "execution_count": 11,
   "id": "480f3f4a",
   "metadata": {},
   "outputs": [
    {
     "data": {
      "text/plain": [
       "<AxesSubplot:ylabel='Density'>"
      ]
     },
     "execution_count": 11,
     "metadata": {},
     "output_type": "execute_result"
    },
    {
     "data": {
      "image/png": "[encoded data removed]",
      "text/plain": [
       "<Figure size 432x288 with 1 Axes>"
      ]
     },
     "metadata": {
      "needs_background": "light"
     },
     "output_type": "display_data"
    }
   ],
   "source": [
    "sns.distplot(data[['output']])"
   ]
  },
  {
   "cell_type": "code",
   "execution_count": 12,
   "id": "5c349c45",
   "metadata": {},
   "outputs": [],
   "source": [
    "## Both the colmns are following the appropiet Normal distribtion."
   ]
  },
  {
   "cell_type": "code",
   "execution_count": 13,
   "id": "bb6645f7",
   "metadata": {},
   "outputs": [
    {
     "data": {
      "text/plain": [
       "<AxesSubplot:xlabel='input'>"
      ]
     },
     "execution_count": 13,
     "metadata": {},
     "output_type": "execute_result"
    },
    {
     "data": {
      "image/png": "[encoded data removed]",
      "text/plain": [
       "<Figure size 432x288 with 1 Axes>"
      ]
     },
     "metadata": {
      "needs_background": "light"
     },
     "output_type": "display_data"
    }
   ],
   "source": [
    "sns.boxplot(data['input'])"
   ]
  },
  {
   "cell_type": "code",
   "execution_count": 14,
   "id": "8cce6d99",
   "metadata": {},
   "outputs": [
    {
     "data": {
      "text/plain": [
       "<AxesSubplot:xlabel='input'>"
      ]
     },
     "execution_count": 14,
     "metadata": {},
     "output_type": "execute_result"
    },
    {
     "data": {
      "image/png": "[encoded data removed]",
      "text/plain": [
       "<Figure size 432x288 with 1 Axes>"
      ]
     },
     "metadata": {
      "needs_background": "light"
     },
     "output_type": "display_data"
    }
   ],
   "source": [
    "sns.boxplot(data['input'])"
   ]
  },
  {
   "cell_type": "code",
   "execution_count": 15,
   "id": "67c37b86",
   "metadata": {},
   "outputs": [],
   "source": [
    "## using box plot we can say that, there no outliers in the dataset"
   ]
  },
  {
   "cell_type": "code",
   "execution_count": 16,
   "id": "ce7270f6",
   "metadata": {},
   "outputs": [],
   "source": [
    "data.dropna(inplace=True)"
   ]
  },
  {
   "cell_type": "code",
   "execution_count": 17,
   "id": "2a599e65",
   "metadata": {},
   "outputs": [],
   "source": [
    "## As the data is haveing 2 nan values and if we remove them that will not effect the columns "
   ]
  },
  {
   "cell_type": "code",
   "execution_count": 18,
   "id": "9e9da0db",
   "metadata": {},
   "outputs": [],
   "source": [
    "## Info after droping the data"
   ]
  },
  {
   "cell_type": "code",
   "execution_count": 19,
   "id": "1b6cf913",
   "metadata": {},
   "outputs": [
    {
     "name": "stdout",
     "output_type": "stream",
     "text": [
      "<class 'pandas.core.frame.DataFrame'>\n",
      "Int64Index: 1696 entries, 0 to 1696\n",
      "Data columns (total 2 columns):\n",
      " #   Column  Non-Null Count  Dtype  \n",
      "---  ------  --------------  -----  \n",
      " 0   input   1696 non-null   float64\n",
      " 1   output  1696 non-null   float64\n",
      "dtypes: float64(2)\n",
      "memory usage: 39.8 KB\n"
     ]
    }
   ],
   "source": [
    "data.info()"
   ]
  },
  {
   "cell_type": "code",
   "execution_count": 20,
   "id": "36e22f40",
   "metadata": {},
   "outputs": [],
   "source": [
    "## Since the data is regression  we use regeression algorithom"
   ]
  },
  {
   "cell_type": "code",
   "execution_count": null,
   "id": "ca9418b8",
   "metadata": {},
   "outputs": [],
   "source": [
    "##importing the libraries"
   ]
  },
  {
   "cell_type": "code",
   "execution_count": 21,
   "id": "556f2a72",
   "metadata": {},
   "outputs": [],
   "source": [
    "from sklearn.linear_model import LinearRegression\n",
    "from sklearn.model_selection import train_test_split"
   ]
  },
  {
   "cell_type": "code",
   "execution_count": null,
   "id": "9f5a430e",
   "metadata": {},
   "outputs": [],
   "source": [
    "## creating class variable and feature variable"
   ]
  },
  {
   "cell_type": "code",
   "execution_count": 22,
   "id": "5c7e0ee3",
   "metadata": {},
   "outputs": [],
   "source": [
    "cl=data[['input']]\n",
    "fv=data[['output']]"
   ]
  },
  {
   "cell_type": "code",
   "execution_count": null,
   "id": "b7317a50",
   "metadata": {},
   "outputs": [],
   "source": [
    "##splitting the data into xtrains and ytrains"
   ]
  },
  {
   "cell_type": "code",
   "execution_count": 23,
   "id": "ac03b63c",
   "metadata": {},
   "outputs": [],
   "source": [
    "x_train,x_test,y_train,y_test=train_test_split(cl,fv,train_size=0.8)"
   ]
  },
  {
   "cell_type": "code",
   "execution_count": null,
   "id": "60ef02f3",
   "metadata": {},
   "outputs": [],
   "source": [
    "## now we will perform standardisation"
   ]
  },
  {
   "cell_type": "code",
   "execution_count": 24,
   "id": "cad260b7",
   "metadata": {},
   "outputs": [],
   "source": [
    "from sklearn.preprocessing import StandardScaler\n",
    "std = StandardScaler()\n",
    "transfromed_train = std.fit_transform(x_train)\n",
    "transfromed_test = std.transform(x_test)"
   ]
  },
  {
   "cell_type": "code",
   "execution_count": null,
   "id": "0c93e0f1",
   "metadata": {},
   "outputs": [],
   "source": [
    "## we're using linear regression"
   ]
  },
  {
   "cell_type": "code",
   "execution_count": 26,
   "id": "02b78fd7",
   "metadata": {},
   "outputs": [],
   "source": [
    "lr=LinearRegression()"
   ]
  },
  {
   "cell_type": "code",
   "execution_count": 27,
   "id": "6ad654e1",
   "metadata": {},
   "outputs": [
    {
     "data": {
      "text/plain": [
       "{'copy_X': True,\n",
       " 'fit_intercept': True,\n",
       " 'n_jobs': None,\n",
       " 'normalize': 'deprecated',\n",
       " 'positive': False}"
      ]
     },
     "execution_count": 27,
     "metadata": {},
     "output_type": "execute_result"
    }
   ],
   "source": [
    "lr.get_params()"
   ]
  },
  {
   "cell_type": "code",
   "execution_count": 28,
   "id": "329fd6de",
   "metadata": {},
   "outputs": [],
   "source": [
    "model=lr.fit(transfromed_train,y_train)"
   ]
  },
  {
   "cell_type": "code",
   "execution_count": 29,
   "id": "f561c36a",
   "metadata": {},
   "outputs": [],
   "source": [
    "predi=model.predict(transfromed_test)"
   ]
  },
  {
   "cell_type": "code",
   "execution_count": 30,
   "id": "14b1c051",
   "metadata": {},
   "outputs": [],
   "source": [
    "## now we will perform Performance metrics like meansquare error and absolute error"
   ]
  },
  {
   "cell_type": "code",
   "execution_count": 31,
   "id": "48ad8738",
   "metadata": {},
   "outputs": [],
   "source": [
    "from sklearn.metrics import mean_squared_error,mean_absolute_error,r2_score"
   ]
  },
  {
   "cell_type": "code",
   "execution_count": null,
   "id": "aafe312d",
   "metadata": {},
   "outputs": [],
   "source": [
    "## 1 mean square error"
   ]
  },
  {
   "cell_type": "code",
   "execution_count": 32,
   "id": "4dad9028",
   "metadata": {},
   "outputs": [
    {
     "data": {
      "text/plain": [
       "3223.0443226154302"
      ]
     },
     "execution_count": 32,
     "metadata": {},
     "output_type": "execute_result"
    }
   ],
   "source": [
    "mean_squared_error(y_test,predi)"
   ]
  },
  {
   "cell_type": "code",
   "execution_count": null,
   "id": "068d53ea",
   "metadata": {},
   "outputs": [],
   "source": [
    "## 2 mean square error"
   ]
  },
  {
   "cell_type": "code",
   "execution_count": 33,
   "id": "6b6291e8",
   "metadata": {},
   "outputs": [
    {
     "data": {
      "text/plain": [
       "41.69557186260281"
      ]
     },
     "execution_count": 33,
     "metadata": {},
     "output_type": "execute_result"
    }
   ],
   "source": [
    "mean_absolute_error(y_test,predi)"
   ]
  },
  {
   "cell_type": "code",
   "execution_count": null,
   "id": "31794d90",
   "metadata": {},
   "outputs": [],
   "source": [
    "## r2 score"
   ]
  },
  {
   "cell_type": "code",
   "execution_count": 34,
   "id": "8d3adf1d",
   "metadata": {},
   "outputs": [
    {
     "data": {
      "text/plain": [
       "0.297012003468739"
      ]
     },
     "execution_count": 34,
     "metadata": {},
     "output_type": "execute_result"
    }
   ],
   "source": [
    "r2_score(y_test,predi)"
   ]
  },
  {
   "cell_type": "code",
   "execution_count": 35,
   "id": "45f5d948",
   "metadata": {},
   "outputs": [
    {
     "data": {
      "text/plain": [
       "array([[32.69950894]])"
      ]
     },
     "execution_count": 35,
     "metadata": {},
     "output_type": "execute_result"
    }
   ],
   "source": [
    "model.coef_"
   ]
  },
  {
   "cell_type": "code",
   "execution_count": 36,
   "id": "0c01665c",
   "metadata": {},
   "outputs": [
    {
     "data": {
      "text/plain": [
       "array([-34.97916007])"
      ]
     },
     "execution_count": 36,
     "metadata": {},
     "output_type": "execute_result"
    }
   ],
   "source": [
    "model.intercept_"
   ]
  },
  {
   "cell_type": "code",
   "execution_count": 37,
   "id": "f067cc78",
   "metadata": {},
   "outputs": [
    {
     "data": {
      "text/plain": [
       "array([-4304.62220784, -4283.91832736, -4290.55316237, ...,\n",
       "       -2879.8364379 , -3466.56544027, -3361.39864319])"
      ]
     },
     "execution_count": 37,
     "metadata": {},
     "output_type": "execute_result"
    }
   ],
   "source": [
    "model.predict(fv).reshape(len(model.predict(fv)))"
   ]
  },
  {
   "cell_type": "code",
   "execution_count": 38,
   "id": "79c5bbae",
   "metadata": {},
   "outputs": [],
   "source": [
    "## Feature engineering - square"
   ]
  },
  {
   "cell_type": "code",
   "execution_count": 39,
   "id": "937441e9",
   "metadata": {},
   "outputs": [
    {
     "data": {
      "text/html": [
       "<div>\n",
       "<style scoped>\n",
       "    .dataframe tbody tr th:only-of-type {\n",
       "        vertical-align: middle;\n",
       "    }\n",
       "\n",
       "    .dataframe tbody tr th {\n",
       "        vertical-align: top;\n",
       "    }\n",
       "\n",
       "    .dataframe thead th {\n",
       "        text-align: right;\n",
       "    }\n",
       "</style>\n",
       "<table border=\"1\" class=\"dataframe\">\n",
       "  <thead>\n",
       "    <tr style=\"text-align: right;\">\n",
       "      <th></th>\n",
       "      <th>input</th>\n",
       "      <th>output</th>\n",
       "      <th>inputsquare</th>\n",
       "    </tr>\n",
       "  </thead>\n",
       "  <tbody>\n",
       "    <tr>\n",
       "      <th>0</th>\n",
       "      <td>-122.740667</td>\n",
       "      <td>-130.572085</td>\n",
       "      <td>15065.271434</td>\n",
       "    </tr>\n",
       "    <tr>\n",
       "      <th>1</th>\n",
       "      <td>-121.531419</td>\n",
       "      <td>-129.938929</td>\n",
       "      <td>14769.885901</td>\n",
       "    </tr>\n",
       "    <tr>\n",
       "      <th>2</th>\n",
       "      <td>-134.917019</td>\n",
       "      <td>-130.141832</td>\n",
       "      <td>18202.602016</td>\n",
       "    </tr>\n",
       "    <tr>\n",
       "      <th>3</th>\n",
       "      <td>-120.605951</td>\n",
       "      <td>-125.760932</td>\n",
       "      <td>14545.795441</td>\n",
       "    </tr>\n",
       "    <tr>\n",
       "      <th>4</th>\n",
       "      <td>-129.894781</td>\n",
       "      <td>-112.785214</td>\n",
       "      <td>16872.654053</td>\n",
       "    </tr>\n",
       "    <tr>\n",
       "      <th>...</th>\n",
       "      <td>...</td>\n",
       "      <td>...</td>\n",
       "      <td>...</td>\n",
       "    </tr>\n",
       "    <tr>\n",
       "      <th>1692</th>\n",
       "      <td>25.410184</td>\n",
       "      <td>-76.380902</td>\n",
       "      <td>645.677427</td>\n",
       "    </tr>\n",
       "    <tr>\n",
       "      <th>1693</th>\n",
       "      <td>29.537304</td>\n",
       "      <td>-82.796934</td>\n",
       "      <td>872.452325</td>\n",
       "    </tr>\n",
       "    <tr>\n",
       "      <th>1694</th>\n",
       "      <td>31.633331</td>\n",
       "      <td>-87.000000</td>\n",
       "      <td>1000.667649</td>\n",
       "    </tr>\n",
       "    <tr>\n",
       "      <th>1695</th>\n",
       "      <td>29.091458</td>\n",
       "      <td>-104.943052</td>\n",
       "      <td>846.312913</td>\n",
       "    </tr>\n",
       "    <tr>\n",
       "      <th>1696</th>\n",
       "      <td>17.145296</td>\n",
       "      <td>-101.726894</td>\n",
       "      <td>293.961173</td>\n",
       "    </tr>\n",
       "  </tbody>\n",
       "</table>\n",
       "<p>1696 rows × 3 columns</p>\n",
       "</div>"
      ],
      "text/plain": [
       "           input      output   inputsquare\n",
       "0    -122.740667 -130.572085  15065.271434\n",
       "1    -121.531419 -129.938929  14769.885901\n",
       "2    -134.917019 -130.141832  18202.602016\n",
       "3    -120.605951 -125.760932  14545.795441\n",
       "4    -129.894781 -112.785214  16872.654053\n",
       "...          ...         ...           ...\n",
       "1692   25.410184  -76.380902    645.677427\n",
       "1693   29.537304  -82.796934    872.452325\n",
       "1694   31.633331  -87.000000   1000.667649\n",
       "1695   29.091458 -104.943052    846.312913\n",
       "1696   17.145296 -101.726894    293.961173\n",
       "\n",
       "[1696 rows x 3 columns]"
      ]
     },
     "execution_count": 39,
     "metadata": {},
     "output_type": "execute_result"
    }
   ],
   "source": [
    "data['inputsquare']=data['input']**2\n",
    "data"
   ]
  },
  {
   "cell_type": "code",
   "execution_count": 40,
   "id": "9b0fe64e",
   "metadata": {},
   "outputs": [],
   "source": [
    "fv=data[['input','inputsquare']]\n",
    "cl=data[['output']]\n",
    "x_train,x_test,y_train,y_test=train_test_split(cl,fv,train_size=0.8)"
   ]
  },
  {
   "cell_type": "code",
   "execution_count": 41,
   "id": "83825453",
   "metadata": {},
   "outputs": [],
   "source": [
    "std = StandardScaler()\n",
    "transfromed_train = std.fit_transform(x_train)\n",
    "transfromed_test = std.transform(x_test)"
   ]
  },
  {
   "cell_type": "code",
   "execution_count": 42,
   "id": "0478b0e6",
   "metadata": {},
   "outputs": [],
   "source": [
    "model=lr.fit(transfromed_train,y_train)"
   ]
  },
  {
   "cell_type": "code",
   "execution_count": 43,
   "id": "abb97eea",
   "metadata": {},
   "outputs": [
    {
     "data": {
      "text/plain": [
       "{'copy_X': True,\n",
       " 'fit_intercept': True,\n",
       " 'n_jobs': None,\n",
       " 'normalize': 'deprecated',\n",
       " 'positive': False}"
      ]
     },
     "execution_count": 43,
     "metadata": {},
     "output_type": "execute_result"
    }
   ],
   "source": [
    "lr.get_params()"
   ]
  },
  {
   "cell_type": "code",
   "execution_count": 44,
   "id": "f5951341",
   "metadata": {},
   "outputs": [],
   "source": [
    "predi=model.predict(transfromed_test)"
   ]
  },
  {
   "cell_type": "code",
   "execution_count": 45,
   "id": "b5b3af22",
   "metadata": {},
   "outputs": [
    {
     "data": {
      "text/plain": [
       "12358628.627191653"
      ]
     },
     "execution_count": 45,
     "metadata": {},
     "output_type": "execute_result"
    }
   ],
   "source": [
    "mean_squared_error(y_test,predi)"
   ]
  },
  {
   "cell_type": "code",
   "execution_count": 46,
   "id": "735b51e2",
   "metadata": {},
   "outputs": [
    {
     "data": {
      "text/plain": [
       "2003.9578936590083"
      ]
     },
     "execution_count": 46,
     "metadata": {},
     "output_type": "execute_result"
    }
   ],
   "source": [
    "mean_absolute_error(y_test,predi)"
   ]
  },
  {
   "cell_type": "code",
   "execution_count": 47,
   "id": "b2d118a8",
   "metadata": {},
   "outputs": [
    {
     "data": {
      "text/plain": [
       "0.2704669125117276"
      ]
     },
     "execution_count": 47,
     "metadata": {},
     "output_type": "execute_result"
    }
   ],
   "source": [
    "r2_score(y_test,predi)"
   ]
  },
  {
   "cell_type": "code",
   "execution_count": 48,
   "id": "d1cf657c",
   "metadata": {},
   "outputs": [
    {
     "data": {
      "text/plain": [
       "array([[  39.14280669],\n",
       "       [2404.0658068 ]])"
      ]
     },
     "execution_count": 48,
     "metadata": {},
     "output_type": "execute_result"
    }
   ],
   "source": [
    "model.coef_"
   ]
  },
  {
   "cell_type": "code",
   "execution_count": 49,
   "id": "0aecbe72",
   "metadata": {},
   "outputs": [
    {
     "data": {
      "text/plain": [
       "array([-5.07636008e-01,  6.29852349e+03])"
      ]
     },
     "execution_count": 49,
     "metadata": {},
     "output_type": "execute_result"
    }
   ],
   "source": [
    "model.intercept_"
   ]
  },
  {
   "cell_type": "code",
   "execution_count": 50,
   "id": "49f2319a",
   "metadata": {},
   "outputs": [],
   "source": [
    "## Now we will try with cube "
   ]
  },
  {
   "cell_type": "code",
   "execution_count": 51,
   "id": "22549cd3",
   "metadata": {},
   "outputs": [
    {
     "data": {
      "text/plain": [
       "{'copy_X': True,\n",
       " 'fit_intercept': True,\n",
       " 'n_jobs': None,\n",
       " 'normalize': 'deprecated',\n",
       " 'positive': False}"
      ]
     },
     "execution_count": 51,
     "metadata": {},
     "output_type": "execute_result"
    }
   ],
   "source": [
    "data['inputcube']=data['input']**3\n",
    "cl=data[['input','inputcube','inputsquare']]\n",
    "fv=data[['output']]\n",
    "x_train,x_test,y_train,y_test=train_test_split(cl,fv,train_size=0.8)\n",
    "std = StandardScaler()\n",
    "transfromed_train = std.fit_transform(x_train)\n",
    "transfromed_test = std.transform(x_test)\n",
    "model=lr.fit(transfromed_train,y_train)\n",
    "lr.get_params()"
   ]
  },
  {
   "cell_type": "code",
   "execution_count": 52,
   "id": "b98ba351",
   "metadata": {},
   "outputs": [
    {
     "data": {
      "text/plain": [
       "1362.193326307971"
      ]
     },
     "execution_count": 52,
     "metadata": {},
     "output_type": "execute_result"
    }
   ],
   "source": [
    "predi=model.predict(transfromed_test)\n",
    "mean_squared_error(y_test,predi)"
   ]
  },
  {
   "cell_type": "code",
   "execution_count": 53,
   "id": "b421425b",
   "metadata": {},
   "outputs": [
    {
     "data": {
      "text/plain": [
       "24.620333578795414"
      ]
     },
     "execution_count": 53,
     "metadata": {},
     "output_type": "execute_result"
    }
   ],
   "source": [
    "mean_absolute_error(y_test,predi)"
   ]
  },
  {
   "cell_type": "code",
   "execution_count": 54,
   "id": "c1e86b1c",
   "metadata": {},
   "outputs": [
    {
     "data": {
      "text/plain": [
       "0.7009596258891596"
      ]
     },
     "execution_count": 54,
     "metadata": {},
     "output_type": "execute_result"
    }
   ],
   "source": [
    "r2_score(y_test,predi)"
   ]
  },
  {
   "cell_type": "code",
   "execution_count": 55,
   "id": "4a46d332",
   "metadata": {},
   "outputs": [],
   "source": [
    "## Our accuracy got increased once after we use the techniques of feature engineering "
   ]
  },
  {
   "cell_type": "code",
   "execution_count": null,
   "id": "c701fb75",
   "metadata": {},
   "outputs": [],
   "source": []
  },
  {
   "cell_type": "code",
   "execution_count": 56,
   "id": "78693e38",
   "metadata": {},
   "outputs": [],
   "source": [
    "#PolynomialFeatures"
   ]
  },
  {
   "cell_type": "code",
   "execution_count": 57,
   "id": "554c0e2e",
   "metadata": {},
   "outputs": [],
   "source": [
    "from sklearn.preprocessing import PolynomialFeatures"
   ]
  },
  {
   "cell_type": "code",
   "execution_count": 58,
   "id": "594b26d0",
   "metadata": {},
   "outputs": [],
   "source": [
    "poly_features = PolynomialFeatures(degree=7)\n",
    "new = data[[\"input\"]]\n",
    "new_poly = poly_features.fit_transform(new)"
   ]
  },
  {
   "cell_type": "code",
   "execution_count": 59,
   "id": "b019138e",
   "metadata": {},
   "outputs": [
    {
     "data": {
      "text/plain": [
       "array([[ 1.00000000e+00, -1.22740667e+02,  1.50652714e+04, ...,\n",
       "        -2.78575169e+10,  3.41925021e+12, -4.19681053e+14],\n",
       "       [ 1.00000000e+00, -1.21531419e+02,  1.47698859e+04, ...,\n",
       "        -2.65120220e+10,  3.22204366e+12, -3.91579539e+14],\n",
       "       [ 1.00000000e+00, -1.34917019e+02,  1.82026020e+04, ...,\n",
       "        -4.47026927e+10,  6.03115404e+12, -8.13705325e+14],\n",
       "       ...,\n",
       "       [ 1.00000000e+00,  3.16333313e+01,  1.00066765e+03, ...,\n",
       "         3.16755853e+07,  1.00200428e+09,  3.16967335e+10],\n",
       "       [ 1.00000000e+00,  2.90914577e+01,  8.46312913e+02, ...,\n",
       "         2.08366270e+07,  6.06167855e+08,  1.76343065e+10],\n",
       "       [ 1.00000000e+00,  1.71452960e+01,  2.93961173e+02, ...,\n",
       "         1.48157940e+06,  2.54021172e+07,  4.35526818e+08]])"
      ]
     },
     "execution_count": 59,
     "metadata": {},
     "output_type": "execute_result"
    }
   ],
   "source": [
    "new_poly"
   ]
  },
  {
   "cell_type": "code",
   "execution_count": 60,
   "id": "a77694eb",
   "metadata": {},
   "outputs": [],
   "source": [
    "scaler = StandardScaler()\n",
    "new_norm = scaler.fit_transform(new_poly)"
   ]
  },
  {
   "cell_type": "code",
   "execution_count": 61,
   "id": "22f00ffc",
   "metadata": {},
   "outputs": [
    {
     "data": {
      "text/plain": [
       "array([[ 0.        , -1.56870605,  1.57285655, ..., -1.91277026,\n",
       "         1.75651878, -1.86607761],\n",
       "       [ 0.        , -1.55339576,  1.52021472, ..., -1.81434765,\n",
       "         1.61781846, -1.73147082],\n",
       "       [ 0.        , -1.72287089,  2.13197273, ..., -3.14499062,\n",
       "         3.59353629, -3.75346153],\n",
       "       ...,\n",
       "       [ 0.        ,  0.38582384, -0.93365249, ...,  0.12731712,\n",
       "        -0.64762097,  0.14435461],\n",
       "       [ 0.        ,  0.35364116, -0.96116066, ...,  0.12652425,\n",
       "        -0.64789937,  0.14428725],\n",
       "       [ 0.        ,  0.20239076, -1.05959746, ...,  0.12510843,\n",
       "        -0.64830784,  0.14420487]])"
      ]
     },
     "execution_count": 61,
     "metadata": {},
     "output_type": "execute_result"
    }
   ],
   "source": [
    "new_norm"
   ]
  },
  {
   "cell_type": "code",
   "execution_count": 62,
   "id": "542775f3",
   "metadata": {},
   "outputs": [],
   "source": [
    "y = data[\"output\"]\n",
    "x_train, x_test, y_train, y_test = train_test_split(new_norm, y, test_size=0.2)"
   ]
  },
  {
   "cell_type": "code",
   "execution_count": 63,
   "id": "f7448d26",
   "metadata": {},
   "outputs": [],
   "source": [
    "model = LinearRegression().fit(x_train, y_train)"
   ]
  },
  {
   "cell_type": "code",
   "execution_count": 64,
   "id": "4bdc46da",
   "metadata": {},
   "outputs": [],
   "source": [
    "y_pred = model.predict(x_test)"
   ]
  },
  {
   "cell_type": "code",
   "execution_count": 65,
   "id": "4cf81755",
   "metadata": {},
   "outputs": [
    {
     "data": {
      "text/html": [
       "<style>#sk-container-id-1 {color: black;background-color: white;}#sk-container-id-1 pre{padding: 0;}#sk-container-id-1 div.sk-toggleable {background-color: white;}#sk-container-id-1 label.sk-toggleable__label {cursor: pointer;display: block;width: 100%;margin-bottom: 0;padding: 0.3em;box-sizing: border-box;text-align: center;}#sk-container-id-1 label.sk-toggleable__label-arrow:before {content: \"▸\";float: left;margin-right: 0.25em;color: #696969;}#sk-container-id-1 label.sk-toggleable__label-arrow:hover:before {color: black;}#sk-container-id-1 div.sk-estimator:hover label.sk-toggleable__label-arrow:before {color: black;}#sk-container-id-1 div.sk-toggleable__content {max-height: 0;max-width: 0;overflow: hidden;text-align: left;background-color: #f0f8ff;}#sk-container-id-1 div.sk-toggleable__content pre {margin: 0.2em;color: black;border-radius: 0.25em;background-color: #f0f8ff;}#sk-container-id-1 input.sk-toggleable__control:checked~div.sk-toggleable__content {max-height: 200px;max-width: 100%;overflow: auto;}#sk-container-id-1 input.sk-toggleable__control:checked~label.sk-toggleable__label-arrow:before {content: \"▾\";}#sk-container-id-1 div.sk-estimator input.sk-toggleable__control:checked~label.sk-toggleable__label {background-color: #d4ebff;}#sk-container-id-1 div.sk-label input.sk-toggleable__control:checked~label.sk-toggleable__label {background-color: #d4ebff;}#sk-container-id-1 input.sk-hidden--visually {border: 0;clip: rect(1px 1px 1px 1px);clip: rect(1px, 1px, 1px, 1px);height: 1px;margin: -1px;overflow: hidden;padding: 0;position: absolute;width: 1px;}#sk-container-id-1 div.sk-estimator {font-family: monospace;background-color: #f0f8ff;border: 1px dotted black;border-radius: 0.25em;box-sizing: border-box;margin-bottom: 0.5em;}#sk-container-id-1 div.sk-estimator:hover {background-color: #d4ebff;}#sk-container-id-1 div.sk-parallel-item::after {content: \"\";width: 100%;border-bottom: 1px solid gray;flex-grow: 1;}#sk-container-id-1 div.sk-label:hover label.sk-toggleable__label {background-color: #d4ebff;}#sk-container-id-1 div.sk-serial::before {content: \"\";position: absolute;border-left: 1px solid gray;box-sizing: border-box;top: 0;bottom: 0;left: 50%;z-index: 0;}#sk-container-id-1 div.sk-serial {display: flex;flex-direction: column;align-items: center;background-color: white;padding-right: 0.2em;padding-left: 0.2em;position: relative;}#sk-container-id-1 div.sk-item {position: relative;z-index: 1;}#sk-container-id-1 div.sk-parallel {display: flex;align-items: stretch;justify-content: center;background-color: white;position: relative;}#sk-container-id-1 div.sk-item::before, #sk-container-id-1 div.sk-parallel-item::before {content: \"\";position: absolute;border-left: 1px solid gray;box-sizing: border-box;top: 0;bottom: 0;left: 50%;z-index: -1;}#sk-container-id-1 div.sk-parallel-item {display: flex;flex-direction: column;z-index: 1;position: relative;background-color: white;}#sk-container-id-1 div.sk-parallel-item:first-child::after {align-self: flex-end;width: 50%;}#sk-container-id-1 div.sk-parallel-item:last-child::after {align-self: flex-start;width: 50%;}#sk-container-id-1 div.sk-parallel-item:only-child::after {width: 0;}#sk-container-id-1 div.sk-dashed-wrapped {border: 1px dashed gray;margin: 0 0.4em 0.5em 0.4em;box-sizing: border-box;padding-bottom: 0.4em;background-color: white;}#sk-container-id-1 div.sk-label label {font-family: monospace;font-weight: bold;display: inline-block;line-height: 1.2em;}#sk-container-id-1 div.sk-label-container {text-align: center;}#sk-container-id-1 div.sk-container {/* jupyter's `normalize.less` sets `[hidden] { display: none; }` but bootstrap.min.css set `[hidden] { display: none !important; }` so we also need the `!important` here to be able to override the default hidden behavior on the sphinx rendered scikit-learn.org. See: https://github.com/scikit-learn/scikit-learn/issues/21755 */display: inline-block !important;position: relative;}#sk-container-id-1 div.sk-text-repr-fallback {display: none;}</style><div id=\"sk-container-id-1\" class=\"sk-top-container\"><div class=\"sk-text-repr-fallback\"><pre>LinearRegression()</pre><b>In a Jupyter environment, please rerun this cell to show the HTML representation or trust the notebook. <br />On GitHub, the HTML representation is unable to render, please try loading this page with nbviewer.org.</b></div><div class=\"sk-container\" hidden><div class=\"sk-item\"><div class=\"sk-estimator sk-toggleable\"><input class=\"sk-toggleable__control sk-hidden--visually\" id=\"sk-estimator-id-1\" type=\"checkbox\" checked><label for=\"sk-estimator-id-1\" class=\"sk-toggleable__label sk-toggleable__label-arrow\">LinearRegression</label><div class=\"sk-toggleable__content\"><pre>LinearRegression()</pre></div></div></div></div></div>"
      ],
      "text/plain": [
       "LinearRegression()"
      ]
     },
     "execution_count": 65,
     "metadata": {},
     "output_type": "execute_result"
    }
   ],
   "source": [
    "model.fit(x_train,y_train)"
   ]
  },
  {
   "cell_type": "code",
   "execution_count": 66,
   "id": "f539125d",
   "metadata": {},
   "outputs": [],
   "source": [
    "y_pred = model.predict(x_test)"
   ]
  },
  {
   "cell_type": "code",
   "execution_count": 67,
   "id": "15829f98",
   "metadata": {},
   "outputs": [],
   "source": [
    "mse = mean_squared_error(y_test, y_pred)\n",
    "r2 = r2_score(y_test, y_pred)"
   ]
  },
  {
   "cell_type": "code",
   "execution_count": 68,
   "id": "33a7fbe9",
   "metadata": {},
   "outputs": [
    {
     "data": {
      "text/plain": [
       "1237.0198674718902"
      ]
     },
     "execution_count": 68,
     "metadata": {},
     "output_type": "execute_result"
    }
   ],
   "source": [
    "mse"
   ]
  },
  {
   "cell_type": "code",
   "execution_count": 69,
   "id": "e4c19265",
   "metadata": {},
   "outputs": [
    {
     "data": {
      "text/plain": [
       "0.6985105471585215"
      ]
     },
     "execution_count": 69,
     "metadata": {},
     "output_type": "execute_result"
    }
   ],
   "source": [
    "r2"
   ]
  },
  {
   "cell_type": "code",
   "execution_count": 70,
   "id": "faa6f8e5",
   "metadata": {},
   "outputs": [],
   "source": [
    "## Using knn Regression"
   ]
  },
  {
   "cell_type": "code",
   "execution_count": 71,
   "id": "cd6a107a",
   "metadata": {},
   "outputs": [],
   "source": [
    "data=pd.read_csv(r\"C:\\Users\\MOHAMMED RAYAZ\\Downloads\\dataframe_.csv\")"
   ]
  },
  {
   "cell_type": "code",
   "execution_count": 72,
   "id": "f07a7404",
   "metadata": {},
   "outputs": [],
   "source": [
    "from sklearn.neighbors import KNeighborsRegressor\n",
    "from sklearn.metrics import accuracy_score"
   ]
  },
  {
   "cell_type": "code",
   "execution_count": 73,
   "id": "cc110900",
   "metadata": {},
   "outputs": [],
   "source": [
    "fv=data[['input']]\n",
    "cl=data[['output']]\n",
    "x_train,x_test,y_train,y_test=train_test_split(fv,cl,train_size=0.8)\n",
    "x_trainf,xcv,y_trainf,ycv=train_test_split(x_train,y_train,train_size=0.8)"
   ]
  },
  {
   "cell_type": "code",
   "execution_count": 74,
   "id": "6d9de378",
   "metadata": {},
   "outputs": [],
   "source": [
    "fv=data[['input']]\n",
    "cl=data[['output']]\n",
    "x_train,x_test,y_train,y_test=train_test_split(fv,cl,train_size=0.8)\n",
    "x_trainf,xcv,y_trainf,ycv=train_test_split(x_train,y_train,train_size=0.8)"
   ]
  },
  {
   "cell_type": "code",
   "execution_count": null,
   "id": "5dc7bb07",
   "metadata": {},
   "outputs": [],
   "source": []
  }
 ],
 "metadata": {
  "kernelspec": {
   "display_name": "Python 3 (ipykernel)",
   "language": "python",
   "name": "python3"
  },
  "language_info": {
   "codemirror_mode": {
    "name": "ipython",
    "version": 3
   },
   "file_extension": ".py",
   "mimetype": "text/x-python",
   "name": "python",
   "nbconvert_exporter": "python",
   "pygments_lexer": "ipython3",
   "version": "3.9.12"
  }
 },
 "nbformat": 4,
 "nbformat_minor": 5
}
